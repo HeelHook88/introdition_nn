{
 "cells": [
  {
   "cell_type": "code",
   "execution_count": 3,
   "metadata": {},
   "outputs": [],
   "source": [
    "import numpy as np \n",
    "import pandas as pd \n",
    "\n",
    "from keras.models import Sequential \n",
    "from keras.layers import Dense \n",
    "from keras.utils import to_categorical \n",
    "from keras.datasets import fashion_mnist \n",
    "from keras.metrics import Recall, Precision \n",
    "\n",
    "import matplotlib.pyplot as plt"
   ]
  },
  {
   "cell_type": "code",
   "execution_count": 4,
   "metadata": {},
   "outputs": [
    {
     "name": "stdout",
     "output_type": "stream",
     "text": [
      "Downloading data from https://storage.googleapis.com/tensorflow/tf-keras-datasets/train-labels-idx1-ubyte.gz\n",
      "32768/29515 [=================================] - 0s 2us/step\n",
      "Downloading data from https://storage.googleapis.com/tensorflow/tf-keras-datasets/train-images-idx3-ubyte.gz\n",
      "26427392/26421880 [==============================] - 3s 0us/step\n",
      "Downloading data from https://storage.googleapis.com/tensorflow/tf-keras-datasets/t10k-labels-idx1-ubyte.gz\n",
      "8192/5148 [===============================================] - 0s 0s/step\n",
      "Downloading data from https://storage.googleapis.com/tensorflow/tf-keras-datasets/t10k-images-idx3-ubyte.gz\n",
      "4423680/4422102 [==============================] - 1s 0us/step\n"
     ]
    }
   ],
   "source": [
    "(train_images,train_labels),(test_images,test_labels)=fashion_mnist.load_data()\n",
    "\n",
    "train_images = (train_images / 127) - 1\n",
    "test_images = (test_images / 127) - 1\n",
    "\n",
    "train_images = train_images.reshape((-1, 784))\n",
    "test_images = test_images.reshape((-1, 784))\n",
    "\n",
    "y_t = to_categorical(train_labels)\n",
    "y_tt = to_categorical(test_labels)"
   ]
  },
  {
   "cell_type": "markdown",
   "metadata": {},
   "source": [
    "### Разное количество нейронов в одном слое"
   ]
  },
  {
   "cell_type": "code",
   "execution_count": 5,
   "metadata": {},
   "outputs": [],
   "source": [
    "res_list = []\n",
    "for i in range(0, 12):\n",
    "\n",
    "  result = {}\n",
    "  model_neurons = Sequential([\n",
    "      Dense(2**i, activation='relu', input_shape=(784,)),\n",
    "      Dense(10, activation='softmax')\n",
    "  ])\n",
    "\n",
    "  model_neurons.compile(\n",
    "      optimizer='adam',\n",
    "      loss='categorical_crossentropy',\n",
    "      metrics=['accuracy']\n",
    "  )\n",
    "\n",
    "  model_neurons.fit(\n",
    "      train_images,\n",
    "      to_categorical(train_labels),\n",
    "      epochs=5,\n",
    "      batch_size=32, \n",
    "      validation_split=0.2,\n",
    "      verbose=0\n",
    "  )\n",
    "\n",
    "  result_train = model_neurons.evaluate(train_images, to_categorical(train_labels), verbose=0)\n",
    "  result_test = model_neurons.evaluate(test_images, to_categorical(test_labels), verbose=0)\n",
    "\n",
    "  result['n_neurons'] = 2**i\n",
    "  result['acc_train'] = np.round(result_train[1], 4)\n",
    "  result['acc_test'] = np.round(result_test[1], 4)\n",
    "\n",
    "  res_list.append(result)"
   ]
  },
  {
   "cell_type": "code",
   "execution_count": 6,
   "metadata": {},
   "outputs": [
    {
     "name": "stdout",
     "output_type": "stream",
     "text": [
      "[{'acc_test': 0.3676, 'acc_train': 0.3735, 'n_neurons': 1},\n",
      " {'acc_test': 0.6522, 'acc_train': 0.653, 'n_neurons': 2},\n",
      " {'acc_test': 0.7788, 'acc_train': 0.7936, 'n_neurons': 4},\n",
      " {'acc_test': 0.829, 'acc_train': 0.8475, 'n_neurons': 8},\n",
      " {'acc_test': 0.8514, 'acc_train': 0.8711, 'n_neurons': 16},\n",
      " {'acc_test': 0.8532, 'acc_train': 0.8731, 'n_neurons': 32},\n",
      " {'acc_test': 0.8585, 'acc_train': 0.8813, 'n_neurons': 64},\n",
      " {'acc_test': 0.87, 'acc_train': 0.8978, 'n_neurons': 128},\n",
      " {'acc_test': 0.8686, 'acc_train': 0.8956, 'n_neurons': 256},\n",
      " {'acc_test': 0.8556, 'acc_train': 0.8818, 'n_neurons': 512},\n",
      " {'acc_test': 0.8651, 'acc_train': 0.8929, 'n_neurons': 1024},\n",
      " {'acc_test': 0.8769, 'acc_train': 0.9018, 'n_neurons': 2048}]\n"
     ]
    }
   ],
   "source": [
    "from pprint import pprint\n",
    "pprint(res_list)"
   ]
  },
  {
   "cell_type": "markdown",
   "metadata": {},
   "source": [
    "С увеличением колличества нейронов accuracy растёт, затем начинает падать. Лучший результат на 128 нейронах , и сопастовимы результат на 2048 но тут более сильное переобучение"
   ]
  },
  {
   "cell_type": "markdown",
   "metadata": {},
   "source": [
    "### Разное количество слоёв с 256 нейронов."
   ]
  },
  {
   "cell_type": "code",
   "execution_count": 7,
   "metadata": {},
   "outputs": [],
   "source": [
    "model_2l = Sequential([\n",
    "      Dense(256, activation='relu', input_shape=(784,)), \n",
    "      Dense(10, activation='softmax')\n",
    "  ])\n",
    "\n",
    "model_3l = Sequential([\n",
    "      Dense(256, activation='relu', input_shape=(784,)),\n",
    "      Dense(256, activation='relu'),\n",
    "      Dense(10, activation='softmax')\n",
    "  ]) \n",
    "\n",
    "model_5l = Sequential([\n",
    "      Dense(256, activation='relu', input_shape=(784,)),\n",
    "      Dense(256, activation='relu'),\n",
    "      Dense(256, activation='relu'),\n",
    "      Dense(256, activation='relu'),\n",
    "      Dense(10, activation='softmax')\n",
    "  ]) \n",
    "\n",
    "model_10l = Sequential([\n",
    "      Dense(256, activation='relu', input_shape=(784,)),\n",
    "      Dense(256, activation='relu'),\n",
    "      Dense(256, activation='relu'),\n",
    "      Dense(256, activation='relu'),\n",
    "      Dense(256, activation='relu'),\n",
    "      Dense(256, activation='relu'),\n",
    "      Dense(256, activation='relu'),\n",
    "      Dense(256, activation='relu'),\n",
    "      Dense(256, activation='relu'),\n",
    "      Dense(10, activation='softmax')\n",
    "  ])"
   ]
  },
  {
   "cell_type": "code",
   "execution_count": 8,
   "metadata": {},
   "outputs": [
    {
     "name": "stdout",
     "output_type": "stream",
     "text": [
      "Model: \"sequential_12\"\n",
      "_________________________________________________________________\n",
      "Layer (type)                 Output Shape              Param #   \n",
      "=================================================================\n",
      "dense_24 (Dense)             (None, 256)               200960    \n",
      "_________________________________________________________________\n",
      "dense_25 (Dense)             (None, 10)                2570      \n",
      "=================================================================\n",
      "Total params: 203,530\n",
      "Trainable params: 203,530\n",
      "Non-trainable params: 0\n",
      "_________________________________________________________________\n",
      "Model: \"sequential_13\"\n",
      "_________________________________________________________________\n",
      "Layer (type)                 Output Shape              Param #   \n",
      "=================================================================\n",
      "dense_26 (Dense)             (None, 256)               200960    \n",
      "_________________________________________________________________\n",
      "dense_27 (Dense)             (None, 256)               65792     \n",
      "_________________________________________________________________\n",
      "dense_28 (Dense)             (None, 10)                2570      \n",
      "=================================================================\n",
      "Total params: 269,322\n",
      "Trainable params: 269,322\n",
      "Non-trainable params: 0\n",
      "_________________________________________________________________\n",
      "Model: \"sequential_14\"\n",
      "_________________________________________________________________\n",
      "Layer (type)                 Output Shape              Param #   \n",
      "=================================================================\n",
      "dense_29 (Dense)             (None, 256)               200960    \n",
      "_________________________________________________________________\n",
      "dense_30 (Dense)             (None, 256)               65792     \n",
      "_________________________________________________________________\n",
      "dense_31 (Dense)             (None, 256)               65792     \n",
      "_________________________________________________________________\n",
      "dense_32 (Dense)             (None, 256)               65792     \n",
      "_________________________________________________________________\n",
      "dense_33 (Dense)             (None, 10)                2570      \n",
      "=================================================================\n",
      "Total params: 400,906\n",
      "Trainable params: 400,906\n",
      "Non-trainable params: 0\n",
      "_________________________________________________________________\n",
      "Model: \"sequential_15\"\n",
      "_________________________________________________________________\n",
      "Layer (type)                 Output Shape              Param #   \n",
      "=================================================================\n",
      "dense_34 (Dense)             (None, 256)               200960    \n",
      "_________________________________________________________________\n",
      "dense_35 (Dense)             (None, 256)               65792     \n",
      "_________________________________________________________________\n",
      "dense_36 (Dense)             (None, 256)               65792     \n",
      "_________________________________________________________________\n",
      "dense_37 (Dense)             (None, 256)               65792     \n",
      "_________________________________________________________________\n",
      "dense_38 (Dense)             (None, 256)               65792     \n",
      "_________________________________________________________________\n",
      "dense_39 (Dense)             (None, 256)               65792     \n",
      "_________________________________________________________________\n",
      "dense_40 (Dense)             (None, 256)               65792     \n",
      "_________________________________________________________________\n",
      "dense_41 (Dense)             (None, 256)               65792     \n",
      "_________________________________________________________________\n",
      "dense_42 (Dense)             (None, 256)               65792     \n",
      "_________________________________________________________________\n",
      "dense_43 (Dense)             (None, 10)                2570      \n",
      "=================================================================\n",
      "Total params: 729,866\n",
      "Trainable params: 729,866\n",
      "Non-trainable params: 0\n",
      "_________________________________________________________________\n"
     ]
    }
   ],
   "source": [
    "res_list = []\n",
    "l = [2, 3, 5, 10]\n",
    "i = 0\n",
    "for model in (model_2l, model_3l, model_5l, model_10l):\n",
    "\n",
    "  result = {}\n",
    "\n",
    "  model.summary()\n",
    "\n",
    "  model.compile(\n",
    "      optimizer='adam',\n",
    "      loss='categorical_crossentropy',\n",
    "      metrics=['accuracy']\n",
    "  )\n",
    "\n",
    "  model.fit(\n",
    "      train_images,\n",
    "      to_categorical(train_labels),\n",
    "      epochs=5,\n",
    "      batch_size=32, \n",
    "      validation_split=0.2,\n",
    "      verbose=0\n",
    "  )\n",
    "\n",
    "  result_train = model.evaluate(train_images, to_categorical(train_labels), verbose=0)\n",
    "  result_test = model.evaluate(test_images, to_categorical(test_labels), verbose=0)\n",
    "\n",
    "  result['n_layers'] = l[i]\n",
    "  i += 1\n",
    "  result['acc_train'] = np.round(result_train[1], 4)\n",
    "  result['acc_test'] = np.round(result_test[1], 4)\n",
    "\n",
    "  res_list.append(result)"
   ]
  },
  {
   "cell_type": "code",
   "execution_count": 9,
   "metadata": {},
   "outputs": [
    {
     "name": "stdout",
     "output_type": "stream",
     "text": [
      "[{'acc_test': 0.8673, 'acc_train': 0.8938, 'n_layers': 2},\n",
      " {'acc_test': 0.8709, 'acc_train': 0.8978, 'n_layers': 3},\n",
      " {'acc_test': 0.8683, 'acc_train': 0.8927, 'n_layers': 5},\n",
      " {'acc_test': 0.8472, 'acc_train': 0.8665, 'n_layers': 10}]\n"
     ]
    }
   ],
   "source": [
    "pprint(res_list)"
   ]
  },
  {
   "cell_type": "markdown",
   "metadata": {},
   "source": [
    "самый лучшый результат на 2-3 слоях дальше accuracy уменьшается "
   ]
  },
  {
   "cell_type": "markdown",
   "metadata": {},
   "source": [
    "### Разное количество слоёв, примерно одно и тоже количество параметров"
   ]
  },
  {
   "cell_type": "code",
   "execution_count": 11,
   "metadata": {},
   "outputs": [],
   "source": [
    "model_2l = Sequential([\n",
    "      Dense(256, activation='relu', input_shape=(784,)), \n",
    "      Dense(10, activation='softmax')\n",
    "  ])\n",
    "\n",
    "model_3l = Sequential([\n",
    "      Dense(222, activation='relu', input_shape=(784,)),\n",
    "      Dense(222, activation='relu'),\n",
    "      Dense(10, activation='softmax')\n",
    "  ]) \n",
    "\n",
    "model_5l = Sequential([\n",
    "      Dense(164, activation='relu', input_shape=(784,)),\n",
    "      Dense(164, activation='relu'),\n",
    "      Dense(164, activation='relu'),\n",
    "      Dense(164, activation='relu'),\n",
    "      Dense(10, activation='softmax')\n",
    "  ]) \n",
    "\n",
    "model_10l = Sequential([\n",
    "      Dense(128, activation='relu', input_shape=(784,)),\n",
    "      Dense(128, activation='relu'),\n",
    "      Dense(128, activation='relu'),\n",
    "      Dense(128, activation='relu'),\n",
    "      Dense(128, activation='relu'),\n",
    "      Dense(128, activation='relu'),\n",
    "      Dense(128, activation='relu'),\n",
    "      Dense(128, activation='relu'),\n",
    "      Dense(128, activation='relu'),\n",
    "      Dense(10, activation='softmax')\n",
    "  ])"
   ]
  },
  {
   "cell_type": "code",
   "execution_count": 12,
   "metadata": {},
   "outputs": [
    {
     "name": "stdout",
     "output_type": "stream",
     "text": [
      "Model: \"sequential_16\"\n",
      "_________________________________________________________________\n",
      "Layer (type)                 Output Shape              Param #   \n",
      "=================================================================\n",
      "dense_44 (Dense)             (None, 256)               200960    \n",
      "_________________________________________________________________\n",
      "dense_45 (Dense)             (None, 10)                2570      \n",
      "=================================================================\n",
      "Total params: 203,530\n",
      "Trainable params: 203,530\n",
      "Non-trainable params: 0\n",
      "_________________________________________________________________\n",
      "Model: \"sequential_17\"\n",
      "_________________________________________________________________\n",
      "Layer (type)                 Output Shape              Param #   \n",
      "=================================================================\n",
      "dense_46 (Dense)             (None, 222)               174270    \n",
      "_________________________________________________________________\n",
      "dense_47 (Dense)             (None, 222)               49506     \n",
      "_________________________________________________________________\n",
      "dense_48 (Dense)             (None, 10)                2230      \n",
      "=================================================================\n",
      "Total params: 226,006\n",
      "Trainable params: 226,006\n",
      "Non-trainable params: 0\n",
      "_________________________________________________________________\n",
      "Model: \"sequential_18\"\n",
      "_________________________________________________________________\n",
      "Layer (type)                 Output Shape              Param #   \n",
      "=================================================================\n",
      "dense_49 (Dense)             (None, 164)               128740    \n",
      "_________________________________________________________________\n",
      "dense_50 (Dense)             (None, 164)               27060     \n",
      "_________________________________________________________________\n",
      "dense_51 (Dense)             (None, 164)               27060     \n",
      "_________________________________________________________________\n",
      "dense_52 (Dense)             (None, 164)               27060     \n",
      "_________________________________________________________________\n",
      "dense_53 (Dense)             (None, 10)                1650      \n",
      "=================================================================\n",
      "Total params: 211,570\n",
      "Trainable params: 211,570\n",
      "Non-trainable params: 0\n",
      "_________________________________________________________________\n",
      "Model: \"sequential_19\"\n",
      "_________________________________________________________________\n",
      "Layer (type)                 Output Shape              Param #   \n",
      "=================================================================\n",
      "dense_54 (Dense)             (None, 128)               100480    \n",
      "_________________________________________________________________\n",
      "dense_55 (Dense)             (None, 128)               16512     \n",
      "_________________________________________________________________\n",
      "dense_56 (Dense)             (None, 128)               16512     \n",
      "_________________________________________________________________\n",
      "dense_57 (Dense)             (None, 128)               16512     \n",
      "_________________________________________________________________\n",
      "dense_58 (Dense)             (None, 128)               16512     \n",
      "_________________________________________________________________\n",
      "dense_59 (Dense)             (None, 128)               16512     \n",
      "_________________________________________________________________\n",
      "dense_60 (Dense)             (None, 128)               16512     \n",
      "_________________________________________________________________\n",
      "dense_61 (Dense)             (None, 128)               16512     \n",
      "_________________________________________________________________\n",
      "dense_62 (Dense)             (None, 128)               16512     \n",
      "_________________________________________________________________\n",
      "dense_63 (Dense)             (None, 10)                1290      \n",
      "=================================================================\n",
      "Total params: 233,866\n",
      "Trainable params: 233,866\n",
      "Non-trainable params: 0\n",
      "_________________________________________________________________\n"
     ]
    }
   ],
   "source": [
    "res_list = []\n",
    "l = [2, 3, 5, 10]\n",
    "i = 0\n",
    "for model in (model_2l, model_3l, model_5l, model_10l):\n",
    "\n",
    "  result = {}\n",
    "\n",
    "  model.summary()\n",
    "\n",
    "  model.compile(\n",
    "      optimizer='adam',\n",
    "      loss='categorical_crossentropy',\n",
    "      metrics=['accuracy']\n",
    "  )\n",
    "\n",
    "  model.fit(\n",
    "      train_images,\n",
    "      to_categorical(train_labels),\n",
    "      epochs=5,\n",
    "      batch_size=32, \n",
    "      validation_split=0.2,\n",
    "      verbose=0\n",
    "  )\n",
    "\n",
    "  result_train = model.evaluate(train_images, to_categorical(train_labels), verbose=0)\n",
    "  result_test = model.evaluate(test_images, to_categorical(test_labels), verbose=0)\n",
    "\n",
    "  result['n_layers'] = l[i]\n",
    "  i += 1\n",
    "  result['acc_train'] = np.round(result_train[1], 4)\n",
    "  result['acc_test'] = np.round(result_test[1], 4)\n",
    "\n",
    "  res_list.append(result)"
   ]
  },
  {
   "cell_type": "code",
   "execution_count": 13,
   "metadata": {},
   "outputs": [
    {
     "name": "stdout",
     "output_type": "stream",
     "text": [
      "[{'acc_test': 0.87, 'acc_train': 0.8942, 'n_layers': 2},\n",
      " {'acc_test': 0.8682, 'acc_train': 0.8976, 'n_layers': 3},\n",
      " {'acc_test': 0.8689, 'acc_train': 0.8903, 'n_layers': 5},\n",
      " {'acc_test': 0.8557, 'acc_train': 0.8753, 'n_layers': 10}]\n"
     ]
    }
   ],
   "source": [
    "pprint(res_list)"
   ]
  },
  {
   "cell_type": "markdown",
   "metadata": {},
   "source": [
    "Лучший результат на 2-5 слоях, с увеличением колличества слоев accuracy становится меньше "
   ]
  },
  {
   "cell_type": "markdown",
   "metadata": {},
   "source": [
    "### Тестируем разные оптимизаторы"
   ]
  },
  {
   "cell_type": "code",
   "execution_count": 15,
   "metadata": {},
   "outputs": [],
   "source": [
    "res_list = []\n",
    "\n",
    "for opt in ['SGD', 'Adam', 'RMSProp']:\n",
    "\n",
    "  result = {}\n",
    "\n",
    "  model_opti = Sequential([\n",
    "      Dense(256, activation='relu', input_shape=(784,)), \n",
    "      Dense(10, activation='softmax')\n",
    "  ])\n",
    "\n",
    "  model_opti.compile(\n",
    "      optimizer=opt,\n",
    "      loss='categorical_crossentropy',\n",
    "      metrics=['accuracy']\n",
    "  )\n",
    "\n",
    "  model_opti.fit(\n",
    "      train_images,\n",
    "      to_categorical(train_labels),\n",
    "      epochs=5,\n",
    "      batch_size=32, \n",
    "      validation_split=0.2,\n",
    "      verbose=0\n",
    "  )\n",
    "\n",
    "  result_train = model_opti.evaluate(train_images, to_categorical(train_labels), verbose=0)\n",
    "  result_test = model_opti.evaluate(test_images, to_categorical(test_labels), verbose=0)\n",
    "\n",
    "  result['opt'] = opt\n",
    "  i += 1\n",
    "  result['acc_train'] = np.round(result_train[1], 4)\n",
    "  result['acc_test'] = np.round(result_test[1], 4)\n",
    "\n",
    "  res_list.append(result)"
   ]
  },
  {
   "cell_type": "code",
   "execution_count": 16,
   "metadata": {},
   "outputs": [
    {
     "name": "stdout",
     "output_type": "stream",
     "text": [
      "[{'acc_test': 0.853, 'acc_train': 0.8697, 'opt': 'SGD'},\n",
      " {'acc_test': 0.8732, 'acc_train': 0.8998, 'opt': 'Adam'},\n",
      " {'acc_test': 0.8651, 'acc_train': 0.8914, 'opt': 'RMSProp'}]\n"
     ]
    }
   ],
   "source": [
    "pprint(res_list)"
   ]
  },
  {
   "cell_type": "markdown",
   "metadata": {},
   "source": [
    "Adam справляет чуть лучше RMSProp"
   ]
  },
  {
   "cell_type": "markdown",
   "metadata": {},
   "source": [
    "### Классы"
   ]
  },
  {
   "cell_type": "code",
   "execution_count": 17,
   "metadata": {},
   "outputs": [
    {
     "data": {
      "text/plain": [
       "<tensorflow.python.keras.callbacks.History at 0x23da7140640>"
      ]
     },
     "execution_count": 17,
     "metadata": {},
     "output_type": "execute_result"
    }
   ],
   "source": [
    "model_opti = Sequential([\n",
    "      Dense(256, activation='relu', input_shape=(784,)), \n",
    "      Dense(10, activation='softmax')\n",
    "  ])\n",
    "\n",
    "model_opti.compile(\n",
    "      optimizer=opt,\n",
    "      loss='categorical_crossentropy',\n",
    "      metrics=['accuracy']\n",
    "  )\n",
    "\n",
    "model_opti.fit(\n",
    "      train_images,\n",
    "      to_categorical(train_labels),\n",
    "      epochs=5,\n",
    "      batch_size=32, \n",
    "      validation_split=0.2,\n",
    "      verbose=0\n",
    "  )"
   ]
  },
  {
   "cell_type": "code",
   "execution_count": 18,
   "metadata": {},
   "outputs": [],
   "source": [
    "predictions = model_2l.predict(test_images)\n",
    "\n",
    "# Print our model's predictions.\n",
    "test_labels_predict = np.argmax(predictions, axis=1)"
   ]
  },
  {
   "cell_type": "code",
   "execution_count": 19,
   "metadata": {},
   "outputs": [
    {
     "data": {
      "text/html": [
       "<div>\n",
       "<style scoped>\n",
       "    .dataframe tbody tr th:only-of-type {\n",
       "        vertical-align: middle;\n",
       "    }\n",
       "\n",
       "    .dataframe tbody tr th {\n",
       "        vertical-align: top;\n",
       "    }\n",
       "\n",
       "    .dataframe thead th {\n",
       "        text-align: right;\n",
       "    }\n",
       "</style>\n",
       "<table border=\"1\" class=\"dataframe\">\n",
       "  <thead>\n",
       "    <tr style=\"text-align: right;\">\n",
       "      <th></th>\n",
       "      <th>recall</th>\n",
       "      <th>precision</th>\n",
       "      <th>F</th>\n",
       "    </tr>\n",
       "  </thead>\n",
       "  <tbody>\n",
       "    <tr>\n",
       "      <th>T-shirt/top</th>\n",
       "      <td>0.831</td>\n",
       "      <td>0.798271</td>\n",
       "      <td>0.814307</td>\n",
       "    </tr>\n",
       "    <tr>\n",
       "      <th>Trouser</th>\n",
       "      <td>0.976</td>\n",
       "      <td>0.956863</td>\n",
       "      <td>0.966337</td>\n",
       "    </tr>\n",
       "    <tr>\n",
       "      <th>Pullover</th>\n",
       "      <td>0.745</td>\n",
       "      <td>0.830546</td>\n",
       "      <td>0.785451</td>\n",
       "    </tr>\n",
       "    <tr>\n",
       "      <th>Dress</th>\n",
       "      <td>0.818</td>\n",
       "      <td>0.921171</td>\n",
       "      <td>0.866525</td>\n",
       "    </tr>\n",
       "    <tr>\n",
       "      <th>Coat</th>\n",
       "      <td>0.851</td>\n",
       "      <td>0.773636</td>\n",
       "      <td>0.810476</td>\n",
       "    </tr>\n",
       "    <tr>\n",
       "      <th>Sandal</th>\n",
       "      <td>0.919</td>\n",
       "      <td>0.976621</td>\n",
       "      <td>0.946935</td>\n",
       "    </tr>\n",
       "    <tr>\n",
       "      <th>Shirt</th>\n",
       "      <td>0.688</td>\n",
       "      <td>0.655863</td>\n",
       "      <td>0.671547</td>\n",
       "    </tr>\n",
       "    <tr>\n",
       "      <th>Sneaker</th>\n",
       "      <td>0.954</td>\n",
       "      <td>0.908571</td>\n",
       "      <td>0.930732</td>\n",
       "    </tr>\n",
       "    <tr>\n",
       "      <th>Bag</th>\n",
       "      <td>0.962</td>\n",
       "      <td>0.969758</td>\n",
       "      <td>0.965863</td>\n",
       "    </tr>\n",
       "    <tr>\n",
       "      <th>Ankle boot</th>\n",
       "      <td>0.956</td>\n",
       "      <td>0.935421</td>\n",
       "      <td>0.945598</td>\n",
       "    </tr>\n",
       "  </tbody>\n",
       "</table>\n",
       "</div>"
      ],
      "text/plain": [
       "            recall precision         F\n",
       "T-shirt/top  0.831  0.798271  0.814307\n",
       "Trouser      0.976  0.956863  0.966337\n",
       "Pullover     0.745  0.830546  0.785451\n",
       "Dress        0.818  0.921171  0.866525\n",
       "Coat         0.851  0.773636  0.810476\n",
       "Sandal       0.919  0.976621  0.946935\n",
       "Shirt        0.688  0.655863  0.671547\n",
       "Sneaker      0.954  0.908571  0.930732\n",
       "Bag          0.962  0.969758  0.965863\n",
       "Ankle boot   0.956  0.935421  0.945598"
      ]
     },
     "execution_count": 19,
     "metadata": {},
     "output_type": "execute_result"
    }
   ],
   "source": [
    "labels = np.unique(train_labels)\n",
    "df = pd.DataFrame(columns=['recall', 'precision'], index=range(10))\n",
    "\n",
    "for i in labels:\n",
    "  recall = Recall()\n",
    "  recall.update_state(y_true=(test_labels == i), \n",
    "                      y_pred=(test_labels_predict == i))\n",
    "  df.loc[i, 'recall'] = recall.result().numpy()\n",
    "\n",
    "  precision = Precision()\n",
    "  precision.update_state(y_true=(test_labels == i), \n",
    "                         y_pred=(test_labels_predict == i))\n",
    "  df.loc[i, 'precision'] = precision.result().numpy()\n",
    "\n",
    "  df.loc[i, 'F'] = 2*recall.result().numpy()*precision.result().numpy()/(precision.result().numpy()+recall.result().numpy())\n",
    "\n",
    "df.index = ['T-shirt/top', 'Trouser', 'Pullover', 'Dress', 'Coat', 'Sandal', 'Shirt', 'Sneaker', 'Bag', 'Ankle boot']\n",
    "\n",
    "df"
   ]
  },
  {
   "cell_type": "code",
   "execution_count": null,
   "metadata": {},
   "outputs": [],
   "source": []
  }
 ],
 "metadata": {
  "kernelspec": {
   "display_name": "Python 3",
   "language": "python",
   "name": "python3"
  },
  "language_info": {
   "codemirror_mode": {
    "name": "ipython",
    "version": 3
   },
   "file_extension": ".py",
   "mimetype": "text/x-python",
   "name": "python",
   "nbconvert_exporter": "python",
   "pygments_lexer": "ipython3",
   "version": "3.8.5"
  }
 },
 "nbformat": 4,
 "nbformat_minor": 4
}
