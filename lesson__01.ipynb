{
 "cells": [
  {
   "cell_type": "markdown",
   "metadata": {
    "id": "_WeS0wye5iDR"
   },
   "source": [
    "### Нейрон для многоклассовой классификации <a class='acnhor' id='multiclass'>"
   ]
  },
  {
   "cell_type": "code",
   "execution_count": 1,
   "metadata": {
    "executionInfo": {
     "elapsed": 867,
     "status": "ok",
     "timestamp": 1617560527219,
     "user": {
      "displayName": "Julia Ponomareva",
      "photoUrl": "https://lh3.googleusercontent.com/a-/AOh14Giimaqepqa7diwYfGdfG3eO8yvg2qDwve3KonGv=s64",
      "userId": "14904333240138417226"
     },
     "user_tz": -300
    },
    "id": "ozb9OSh3xpTI"
   },
   "outputs": [],
   "source": [
    "import numpy as np\n",
    "import matplotlib.pyplot as plt\n",
    "\n",
    "\n",
    "# вычисление сигмоид функции\n",
    "def sigmoid(x):\n",
    "    x = np.clip(x, a_min=-500, a_max=500)\n",
    "    return 1 / (1 + np.exp(-x))\n",
    "\n",
    "# вычисление производной от сигмоид функции\n",
    "def sigmoid_deriv(x):\n",
    "    return sigmoid(x) * (1 - sigmoid(x))"
   ]
  },
  {
   "cell_type": "code",
   "execution_count": 2,
   "metadata": {
    "colab": {
     "base_uri": "https://localhost:8080/",
     "height": 392
    },
    "executionInfo": {
     "elapsed": 2562,
     "status": "ok",
     "timestamp": 1617560601784,
     "user": {
      "displayName": "Julia Ponomareva",
      "photoUrl": "https://lh3.googleusercontent.com/a-/AOh14Giimaqepqa7diwYfGdfG3eO8yvg2qDwve3KonGv=s64",
      "userId": "14904333240138417226"
     },
     "user_tz": -300
    },
    "id": "z_KsqbZ3xpTJ",
    "outputId": "b2db5c70-7dbb-4eeb-ca43-a789644a089f"
   },
   "outputs": [
    {
     "name": "stdout",
     "output_type": "stream",
     "text": [
      "(1797, 64)\n"
     ]
    }
   ],
   "source": [
    "from sklearn.datasets import load_digits\n",
    "from sklearn.preprocessing import MinMaxScaler\n",
    "\n",
    "\n",
    "# Подготовка тренировочных данных\n",
    "X, y = load_digits(return_X_y=True)\n",
    "print(X.shape) # расскоментируйте, чтобы размер данных"
   ]
  },
  {
   "cell_type": "code",
   "execution_count": null,
   "metadata": {
    "colab": {
     "base_uri": "https://localhost:8080/"
    },
    "executionInfo": {
     "elapsed": 994,
     "status": "ok",
     "timestamp": 1617560601787,
     "user": {
      "displayName": "Julia Ponomareva",
      "photoUrl": "https://lh3.googleusercontent.com/a-/AOh14Giimaqepqa7diwYfGdfG3eO8yvg2qDwve3KonGv=s64",
      "userId": "14904333240138417226"
     },
     "user_tz": -300
    },
    "id": "_Z1QSqQ0H-C4",
    "outputId": "ebff736d-e531-4a3e-f73e-99c59286a761"
   },
   "outputs": [],
   "source": []
  },
  {
   "cell_type": "code",
   "execution_count": 3,
   "metadata": {
    "executionInfo": {
     "elapsed": 709,
     "status": "ok",
     "timestamp": 1617560637720,
     "user": {
      "displayName": "Julia Ponomareva",
      "photoUrl": "https://lh3.googleusercontent.com/a-/AOh14Giimaqepqa7diwYfGdfG3eO8yvg2qDwve3KonGv=s64",
      "userId": "14904333240138417226"
     },
     "user_tz": -300
    },
    "id": "B-KVdVdVxpTJ"
   },
   "outputs": [],
   "source": [
    "def to_one_hot(Y):\n",
    "    n_col = np.max(Y) + 1\n",
    "    binarized = np.zeros((len(Y), n_col))\n",
    "    for i in range(len(Y)):\n",
    "        binarized[i, Y[i]] = 1\n",
    "    return binarized"
   ]
  },
  {
   "cell_type": "code",
   "execution_count": 4,
   "metadata": {
    "colab": {
     "base_uri": "https://localhost:8080/",
     "height": 163
    },
    "executionInfo": {
     "elapsed": 1003,
     "status": "ok",
     "timestamp": 1617560639015,
     "user": {
      "displayName": "Julia Ponomareva",
      "photoUrl": "https://lh3.googleusercontent.com/a-/AOh14Giimaqepqa7diwYfGdfG3eO8yvg2qDwve3KonGv=s64",
      "userId": "14904333240138417226"
     },
     "user_tz": -300
    },
    "id": "oNJY5ADWxpTK",
    "outputId": "622714f2-af9e-498b-e883-baa1dd2a8f60"
   },
   "outputs": [
    {
     "data": {
      "text/plain": [
       "array([[1., 0., 0., ..., 0., 0., 0.],\n",
       "       [0., 1., 0., ..., 0., 0., 0.],\n",
       "       [0., 0., 1., ..., 0., 0., 0.],\n",
       "       ...,\n",
       "       [0., 0., 0., ..., 0., 1., 0.],\n",
       "       [0., 0., 0., ..., 0., 0., 1.],\n",
       "       [0., 0., 0., ..., 0., 1., 0.]])"
      ]
     },
     "metadata": {},
     "output_type": "display_data"
    },
    {
     "data": {
      "text/plain": [
       "(1797, 10)"
      ]
     },
     "metadata": {},
     "output_type": "display_data"
    }
   ],
   "source": [
    "# формирование входных данных\n",
    "scaler = MinMaxScaler()\n",
    "X = scaler.fit_transform(X)\n",
    "\n",
    "# формирование выходных данных(результатов)\n",
    "y = y.flatten()\n",
    "y = to_one_hot(y)\n",
    "display(y, y.shape)"
   ]
  },
  {
   "cell_type": "code",
   "execution_count": 5,
   "metadata": {
    "colab": {
     "base_uri": "https://localhost:8080/"
    },
    "executionInfo": {
     "elapsed": 745,
     "status": "ok",
     "timestamp": 1617560673067,
     "user": {
      "displayName": "Julia Ponomareva",
      "photoUrl": "https://lh3.googleusercontent.com/a-/AOh14Giimaqepqa7diwYfGdfG3eO8yvg2qDwve3KonGv=s64",
      "userId": "14904333240138417226"
     },
     "user_tz": -300
    },
    "id": "bBJi_H1LxpTL",
    "outputId": "2a7d230f-bf30-4827-b886-62be91ea9127"
   },
   "outputs": [
    {
     "data": {
      "text/plain": [
       "((1203, 64), (594, 64))"
      ]
     },
     "execution_count": 5,
     "metadata": {},
     "output_type": "execute_result"
    }
   ],
   "source": [
    "from sklearn.model_selection import train_test_split\n",
    "\n",
    "# Разделение данных на тренировочные и тестовые\n",
    "X_train, X_test, y_train, y_test = train_test_split(X, y, test_size=0.33)\n",
    "X_train.shape, X_test.shape"
   ]
  },
  {
   "cell_type": "markdown",
   "metadata": {
    "id": "4j0g47JcxpTO"
   },
   "source": [
    "## Пример построения  двухслойной нейронной сети на numpy <a class='anchor' id='example2'>"
   ]
  },
  {
   "cell_type": "code",
   "execution_count": 6,
   "metadata": {
    "executionInfo": {
     "elapsed": 762,
     "status": "ok",
     "timestamp": 1617561016029,
     "user": {
      "displayName": "Julia Ponomareva",
      "photoUrl": "https://lh3.googleusercontent.com/a-/AOh14Giimaqepqa7diwYfGdfG3eO8yvg2qDwve3KonGv=s64",
      "userId": "14904333240138417226"
     },
     "user_tz": -300
    },
    "id": "0eNNvaYgxpTP"
   },
   "outputs": [],
   "source": [
    "import numpy as np\n",
    "import pandas as pd\n",
    "import seaborn as sns\n",
    "import matplotlib.pyplot as plt\n",
    "\n",
    "import warnings\n",
    "warnings.filterwarnings('ignore')\n",
    "\n",
    "from sklearn.model_selection import train_test_split"
   ]
  },
  {
   "cell_type": "code",
   "execution_count": 7,
   "metadata": {},
   "outputs": [],
   "source": [
    "errors = []\n",
    "metrics = []"
   ]
  },
  {
   "cell_type": "code",
   "execution_count": 8,
   "metadata": {
    "executionInfo": {
     "elapsed": 751,
     "status": "ok",
     "timestamp": 1617561191313,
     "user": {
      "displayName": "Julia Ponomareva",
      "photoUrl": "https://lh3.googleusercontent.com/a-/AOh14Giimaqepqa7diwYfGdfG3eO8yvg2qDwve3KonGv=s64",
      "userId": "14904333240138417226"
     },
     "user_tz": -300
    },
    "id": "RIeYUSovxpTP"
   },
   "outputs": [],
   "source": [
    "def start_nn(neuron_numb,learning_rate, num_epochs):\n",
    "# Обучение нейронной сети\n",
    "\n",
    "# определим число нейронов скрытого слоя\n",
    "    neuron_numb = neuron_numb\n",
    "\n",
    "# присваивание случайных весов\n",
    "    np.random.seed(1)\n",
    "    w0 = np.random.random((64, neuron_numb))  # для входного слоя    - 64 входа, neuron_numb выходов\n",
    "    w1 = np.random.random((neuron_numb, 10))  # для внутреннего слоя - neuron_numb входов, 10 выходов\n",
    "\n",
    "# скорость обучения (learning rate)\n",
    "    learning_rate = learning_rate\n",
    "\n",
    "# количество итераций\n",
    "    num_epochs = num_epochs\n",
    "\n",
    "# массив для ошибок, чтобы потом построить график\n",
    "\n",
    "\n",
    "# процесс обучения\n",
    "    for i in range(num_epochs):\n",
    "\n",
    "    # прямое распространение(feed forward)\n",
    "        layer0 = X_train\n",
    "        layer1 = sigmoid(np.dot(layer0, w0))\n",
    "        layer2 = sigmoid(np.dot(layer1, w1))\n",
    "\n",
    "    # обратное распространение (back propagation)\n",
    "    #  с использованием градиентного спуска\n",
    "        layer2_error = layer2 - y_train  # производная функции потерь\n",
    "        layer2_grad = layer2_error * sigmoid_deriv(layer2)\n",
    "    \n",
    "        layer1_error = layer2_grad.dot(w1.T)\n",
    "        layer1_grad = layer1_error * sigmoid_deriv(layer1)\n",
    "    \n",
    "        w1 -= layer1.T.dot(layer2_grad) * learning_rate\n",
    "        w0 -= layer0.T.dot(layer1_grad) * learning_rate\n",
    "    \n",
    "    # ошибка модели\n",
    "        error = np.mean(np.abs(layer2_error))\n",
    "        errors.append(error)\n",
    "    \n",
    "    # метрики качества\n",
    "    preds = np.argmax(layer2, axis=1)\n",
    "    labels = np.argmax(y_train, axis=1)\n",
    "    accuracy = (preds == labels).sum() * 100 / len(labels)\n",
    "    metrics.append(accuracy)\n",
    "    print(f\"accuracy на обучении {accuracy:.2f}%\")\n",
    "    \n",
    "    # прямое распространение(feed forward)\n",
    "    layer0_test = X_test\n",
    "    layer1_test = sigmoid(np.dot(layer0_test, w0))\n",
    "    layer2_test = sigmoid(np.dot(layer1_test, w1))\n",
    "\n",
    "# метрика модели\n",
    "    preds_test = np.argmax(layer2_test, axis=1)\n",
    "    labels_test = np.argmax(y_test, axis=1)\n",
    "    accuracy_test = (preds_test == labels_test).sum() * 100 / len(labels_test)\n",
    "\n",
    "    print(f\"accuracy на тесте {accuracy_test:.2f}%\")\n",
    "    "
   ]
  },
  {
   "cell_type": "code",
   "execution_count": 9,
   "metadata": {
    "colab": {
     "base_uri": "https://localhost:8080/",
     "height": 651
    },
    "executionInfo": {
     "elapsed": 1612,
     "status": "ok",
     "timestamp": 1617561198056,
     "user": {
      "displayName": "Julia Ponomareva",
      "photoUrl": "https://lh3.googleusercontent.com/a-/AOh14Giimaqepqa7diwYfGdfG3eO8yvg2qDwve3KonGv=s64",
      "userId": "14904333240138417226"
     },
     "user_tz": -300
    },
    "id": "-RGS2X4FxpTQ",
    "outputId": "bf97b3b9-6f92-4d75-b0b7-ce2306074039"
   },
   "outputs": [
    {
     "name": "stdout",
     "output_type": "stream",
     "text": [
      "accuracy на обучении 45.72%\n",
      "accuracy на тесте 41.25%\n",
      "CPU times: user 520 ms, sys: 868 ms, total: 1.39 s\n",
      "Wall time: 119 ms\n"
     ]
    }
   ],
   "source": [
    "%%time\n",
    "neuron_numb = 6\n",
    "learning_rate = 0.1\n",
    "num_epochs = 100\n",
    "\n",
    "\n",
    "start_nn(neuron_numb,learning_rate, num_epochs)"
   ]
  },
  {
   "cell_type": "code",
   "execution_count": 10,
   "metadata": {
    "colab": {
     "base_uri": "https://localhost:8080/"
    },
    "executionInfo": {
     "elapsed": 739,
     "status": "ok",
     "timestamp": 1617561266107,
     "user": {
      "displayName": "Julia Ponomareva",
      "photoUrl": "https://lh3.googleusercontent.com/a-/AOh14Giimaqepqa7diwYfGdfG3eO8yvg2qDwve3KonGv=s64",
      "userId": "14904333240138417226"
     },
     "user_tz": -300
    },
    "id": "fQ0KZZepPxh2",
    "outputId": "24284818-e408-4b0f-d547-1bf454534c45"
   },
   "outputs": [
    {
     "name": "stdout",
     "output_type": "stream",
     "text": [
      "accuracy на обучении 21.36%\n",
      "accuracy на тесте 19.70%\n",
      "CPU times: user 196 ms, sys: 1.56 s, total: 1.76 s\n",
      "Wall time: 147 ms\n"
     ]
    }
   ],
   "source": [
    "%%time\n",
    "neuron_numb = 6\n",
    "learning_rate = 0.01\n",
    "num_epochs = 100\n",
    "\n",
    "\n",
    "start_nn(neuron_numb,learning_rate, num_epochs)"
   ]
  },
  {
   "cell_type": "code",
   "execution_count": 11,
   "metadata": {
    "colab": {
     "base_uri": "https://localhost:8080/",
     "height": 352
    },
    "executionInfo": {
     "elapsed": 877,
     "status": "ok",
     "timestamp": 1617561306831,
     "user": {
      "displayName": "Julia Ponomareva",
      "photoUrl": "https://lh3.googleusercontent.com/a-/AOh14Giimaqepqa7diwYfGdfG3eO8yvg2qDwve3KonGv=s64",
      "userId": "14904333240138417226"
     },
     "user_tz": -300
    },
    "id": "buD3QL6dLhg8",
    "outputId": "4375eca2-1dbf-418c-8c0a-b9050ee204c4"
   },
   "outputs": [
    {
     "name": "stdout",
     "output_type": "stream",
     "text": [
      "accuracy на обучении 63.84%\n",
      "accuracy на тесте 62.12%\n",
      "CPU times: user 1.51 s, sys: 4.89 s, total: 6.4 s\n",
      "Wall time: 533 ms\n"
     ]
    }
   ],
   "source": [
    "%%time\n",
    "neuron_numb = 6\n",
    "learning_rate = 0.01\n",
    "num_epochs = 400\n",
    "\n",
    "\n",
    "start_nn(neuron_numb,learning_rate, num_epochs)"
   ]
  },
  {
   "cell_type": "code",
   "execution_count": 12,
   "metadata": {
    "colab": {
     "base_uri": "https://localhost:8080/",
     "height": 352
    },
    "executionInfo": {
     "elapsed": 935,
     "status": "ok",
     "timestamp": 1617561338247,
     "user": {
      "displayName": "Julia Ponomareva",
      "photoUrl": "https://lh3.googleusercontent.com/a-/AOh14Giimaqepqa7diwYfGdfG3eO8yvg2qDwve3KonGv=s64",
      "userId": "14904333240138417226"
     },
     "user_tz": -300
    },
    "id": "lRmoi3hzxpTQ",
    "outputId": "d3a0f2ad-cf0b-49fd-dfff-694e8d1f74f4"
   },
   "outputs": [
    {
     "name": "stdout",
     "output_type": "stream",
     "text": [
      "accuracy на обучении 10.81%\n",
      "accuracy на тесте 8.59%\n",
      "CPU times: user 462 ms, sys: 3.14 s, total: 3.6 s\n",
      "Wall time: 300 ms\n"
     ]
    }
   ],
   "source": [
    "%%time\n",
    "neuron_numb = 1\n",
    "learning_rate = 0.01\n",
    "num_epochs = 400\n",
    "\n",
    "\n",
    "start_nn(neuron_numb,learning_rate, num_epochs)"
   ]
  },
  {
   "cell_type": "code",
   "execution_count": 13,
   "metadata": {},
   "outputs": [
    {
     "name": "stdout",
     "output_type": "stream",
     "text": [
      "accuracy на обучении 98.75%\n",
      "accuracy на тесте 95.96%\n",
      "CPU times: user 4.68 s, sys: 17.6 s, total: 22.3 s\n",
      "Wall time: 1.86 s\n"
     ]
    }
   ],
   "source": [
    "%%time\n",
    "neuron_numb = 50\n",
    "learning_rate = 0.01\n",
    "num_epochs = 400\n",
    "\n",
    "\n",
    "start_nn(neuron_numb,learning_rate, num_epochs)"
   ]
  },
  {
   "cell_type": "code",
   "execution_count": 14,
   "metadata": {},
   "outputs": [
    {
     "name": "stdout",
     "output_type": "stream",
     "text": [
      "accuracy на обучении 75.56%\n",
      "accuracy на тесте 72.05%\n",
      "CPU times: user 5.47 s, sys: 20.8 s, total: 26.2 s\n",
      "Wall time: 2.19 s\n"
     ]
    }
   ],
   "source": [
    "%%time\n",
    "neuron_numb = 50\n",
    "learning_rate = 0.001\n",
    "num_epochs = 400\n",
    "\n",
    "\n",
    "start_nn(neuron_numb,learning_rate, num_epochs)"
   ]
  },
  {
   "cell_type": "code",
   "execution_count": 15,
   "metadata": {},
   "outputs": [
    {
     "name": "stdout",
     "output_type": "stream",
     "text": [
      "accuracy на обучении 97.26%\n",
      "accuracy на тесте 93.94%\n",
      "CPU times: user 1min 5s, sys: 5min 18s, total: 6min 23s\n",
      "Wall time: 32 s\n"
     ]
    }
   ],
   "source": [
    "%%time\n",
    "neuron_numb = 50\n",
    "learning_rate = 0.001\n",
    "num_epochs = 4000\n",
    "\n",
    "\n",
    "start_nn(neuron_numb,learning_rate, num_epochs)"
   ]
  },
  {
   "cell_type": "code",
   "execution_count": 16,
   "metadata": {},
   "outputs": [
    {
     "name": "stdout",
     "output_type": "stream",
     "text": [
      "accuracy на обучении 98.50%\n",
      "accuracy на тесте 95.79%\n",
      "CPU times: user 1min 55s, sys: 8min 5s, total: 10min 1s\n",
      "Wall time: 50.2 s\n"
     ]
    }
   ],
   "source": [
    "%%time\n",
    "neuron_numb = 50\n",
    "learning_rate = 0.001\n",
    "num_epochs = 8000\n",
    "\n",
    "\n",
    "start_nn(neuron_numb,learning_rate, num_epochs)"
   ]
  }
 ],
 "metadata": {
  "colab": {
   "collapsed_sections": [
    "TWX2iLhFxpTS",
    "IADnOuFBxpTS"
   ],
   "name": "Web1.ipynb",
   "provenance": [],
   "toc_visible": true
  },
  "kernelspec": {
   "display_name": "Python 3",
   "language": "python",
   "name": "python3"
  },
  "language_info": {
   "codemirror_mode": {
    "name": "ipython",
    "version": 3
   },
   "file_extension": ".py",
   "mimetype": "text/x-python",
   "name": "python",
   "nbconvert_exporter": "python",
   "pygments_lexer": "ipython3",
   "version": "3.8.8"
  }
 },
 "nbformat": 4,
 "nbformat_minor": 4
}
