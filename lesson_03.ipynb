{
 "cells": [
  {
   "cell_type": "markdown",
   "metadata": {},
   "source": [
    "Практическое задание\n",
    "#### 1 .Постройте нейронную сеть(берем простую линейную сеть, которую разбирали на уроке: меняем число слоев, число нейронов , типы активации, тип оптимизатора) на датасет from sklearn.datasets import load_boston.\n",
    "#### 2. Измените функцию потерь и метрику для этой задачи. Постройте 10-15 вариантов и сведите результаты их работы в таблицу Опишите, какого результата вы добились от нейросети? Что помогло вам улучшить ее точность?"
   ]
  },
  {
   "cell_type": "code",
   "execution_count": 1,
   "metadata": {},
   "outputs": [],
   "source": [
    "from sklearn.datasets import load_boston\n",
    "from sklearn.model_selection import train_test_split\n",
    "import tensorflow as tf\n",
    "from tensorflow.keras.layers import Input, Flatten\n",
    "from tensorflow.keras.models import Model\n",
    "from tensorflow.keras.optimizers import Adam, SGD, RMSprop, Adagrad\n",
    "from tensorflow import keras\n",
    "from keras import models\n",
    "from keras import layers\n",
    "import pandas as pd\n",
    "from pprint import pprint\n",
    "\n",
    "import numpy as np\n",
    "import matplotlib.pyplot as plt\n",
    "from sklearn.metrics import mean_squared_error as mse, r2_score as r2\n",
    "import seaborn as sns"
   ]
  },
  {
   "cell_type": "code",
   "execution_count": 2,
   "metadata": {},
   "outputs": [],
   "source": [
    "def evaluate_preds(true_values, pred_values, save=False, vis=True):\n",
    "    \"\"\"Оценка качества модели и график preds vs true\"\"\"\n",
    "    if vis:\n",
    "        print(\"R2:\\t\" + str(np.round(r2(true_values, pred_values), 5)) + \"\\n\" +\n",
    "              \"RMSE:\\t\" + str(np.round(np.sqrt(mse(true_values, pred_values)), 3)) + \"\\n\" +\n",
    "              \"MSE:\\t\" + str(np.round(mse(true_values, pred_values), 3)))\n",
    "        \n",
    "        plt.figure(figsize=(8,8))\n",
    "        \n",
    "        sns.scatterplot(x=pred_values, y=true_values)\n",
    "        plt.plot([0, np.max(pred_values)], [0, np.max(true_values)], linestyle='--', color='black')  # диагональ, где true_values = pred_values\n",
    "        \n",
    "        plt.xlabel('Predicted values')\n",
    "        plt.ylabel('True values')\n",
    "        plt.title('True vs Predicted values')\n",
    "        \n",
    "        if save == True:\n",
    "            plt.savefig(REPORTS_FILE_PATH + 'report.png')\n",
    "        plt.show()\n",
    "\n",
    "    return np.round(r2(true_values, pred_values), 5), np.round(np.sqrt(mse(true_values, pred_values)), 3), np.round(mse(true_values, pred_values), 3)"
   ]
  },
  {
   "cell_type": "code",
   "execution_count": 3,
   "metadata": {},
   "outputs": [],
   "source": [
    "X, y = load_boston(return_X_y=True)\n",
    "\n",
    "X_train, X_test, y_train, y_test = train_test_split(X, y, test_size=0.33, random_state=42)"
   ]
  },
  {
   "cell_type": "code",
   "execution_count": 4,
   "metadata": {},
   "outputs": [],
   "source": [
    "\n",
    "model_test = models.Sequential()\n",
    "model_test.add(layers.Dense(64, activation='relu', input_shape=(X_train.shape[1],)))\n",
    "model_test.add(layers.Dense(64, activation='relu'))\n",
    "model_test.add(layers.Dense(1))"
   ]
  },
  {
   "cell_type": "code",
   "execution_count": 5,
   "metadata": {},
   "outputs": [
    {
     "name": "stdout",
     "output_type": "stream",
     "text": [
      "Model: \"sequential\"\n",
      "_________________________________________________________________\n",
      "Layer (type)                 Output Shape              Param #   \n",
      "=================================================================\n",
      "dense (Dense)                (None, 64)                896       \n",
      "_________________________________________________________________\n",
      "dense_1 (Dense)              (None, 64)                4160      \n",
      "_________________________________________________________________\n",
      "dense_2 (Dense)              (None, 1)                 65        \n",
      "=================================================================\n",
      "Total params: 5,121\n",
      "Trainable params: 5,121\n",
      "Non-trainable params: 0\n",
      "_________________________________________________________________\n"
     ]
    }
   ],
   "source": [
    "model_test.summary()"
   ]
  },
  {
   "cell_type": "code",
   "execution_count": 6,
   "metadata": {},
   "outputs": [
    {
     "name": "stdout",
     "output_type": "stream",
     "text": [
      "Epoch 1/5\n",
      "11/11 [==============================] - 0s 700us/step - loss: 3557.8120 - mean_absolute_error: 50.9353\n",
      "Epoch 2/5\n",
      "11/11 [==============================] - 0s 600us/step - loss: 745.6036 - mean_absolute_error: 21.2889\n",
      "Epoch 3/5\n",
      "11/11 [==============================] - 0s 700us/step - loss: 315.1005 - mean_absolute_error: 14.3612\n",
      "Epoch 4/5\n",
      "11/11 [==============================] - 0s 700us/step - loss: 157.5376 - mean_absolute_error: 10.4175\n",
      "Epoch 5/5\n",
      "11/11 [==============================] - 0s 600us/step - loss: 115.6416 - mean_absolute_error: 7.8454\n"
     ]
    }
   ],
   "source": [
    "model_test.compile(optimizer='adam',\n",
    "              loss=tf.keras.losses.MeanSquaredError(),\n",
    "              metrics=['mean_absolute_error'])\n",
    "\n",
    "hist1=model_test.fit(X_train, y_train, epochs=5)"
   ]
  },
  {
   "cell_type": "code",
   "execution_count": 7,
   "metadata": {},
   "outputs": [
    {
     "data": {
      "text/plain": [
       "(167, 1)"
      ]
     },
     "execution_count": 7,
     "metadata": {},
     "output_type": "execute_result"
    }
   ],
   "source": [
    "y_pred_test = model_test.predict(X_test)\n",
    "y_pred_test.shape"
   ]
  },
  {
   "cell_type": "code",
   "execution_count": 8,
   "metadata": {},
   "outputs": [
    {
     "name": "stdout",
     "output_type": "stream",
     "text": [
      "R2:\t-0.01586\n",
      "RMSE:\t8.768\n",
      "MSE:\t76.878\n"
     ]
    },
    {
     "data": {
      "image/png": "[encoded data removed]",
      "text/plain": [
       "<Figure size 576x576 with 1 Axes>"
      ]
     },
     "metadata": {
      "needs_background": "light"
     },
     "output_type": "display_data"
    },
    {
     "data": {
      "text/plain": [
       "(-0.01586, 8.768, 76.878)"
      ]
     },
     "execution_count": 8,
     "metadata": {},
     "output_type": "execute_result"
    }
   ],
   "source": [
    "evaluate_preds(y_test, y_pred_test.copy().flatten() )"
   ]
  },
  {
   "cell_type": "code",
   "execution_count": null,
   "metadata": {},
   "outputs": [],
   "source": []
  },
  {
   "cell_type": "code",
   "execution_count": 9,
   "metadata": {},
   "outputs": [],
   "source": [
    "model_1 = models.Sequential()\n",
    "model_1.add(layers.Dense(64, activation='relu', input_shape=(X_train.shape[1],)))\n",
    "model_1.add(layers.Dense(64, activation='relu'))\n",
    "model_1.add(layers.Dense(1))\n",
    "\n",
    "model_2 = models.Sequential()\n",
    "model_2.add(layers.Dense(64, activation='relu', input_shape=(X_train.shape[1],)))\n",
    "model_2.add(layers.Dense(1))\n",
    "\n",
    "model_3 = models.Sequential()\n",
    "model_3.add(layers.Dense(64, activation='relu', input_shape=(X_train.shape[1],)))\n",
    "model_3.add(layers.Dense(64, activation='relu'))\n",
    "model_3.add(layers.Dense(64, activation='relu'))\n",
    "model_3.add(layers.Dense(64, activation='relu'))\n",
    "model_3.add(layers.Dense(64, activation='relu'))\n",
    "model_3.add(layers.Dense(1))\n",
    "\n",
    "model_4 = models.Sequential()\n",
    "model_4.add(layers.Dense(64, activation='relu', input_shape=(X_train.shape[1],)))\n",
    "model_4.add(layers.Dense(64, activation='relu'))\n",
    "model_4.add(layers.Dense(64, activation='relu'))\n",
    "model_4.add(layers.Dense(64, activation='relu'))\n",
    "model_4.add(layers.Dense(64, activation='relu'))\n",
    "model_4.add(layers.Dense(64, activation='relu'))\n",
    "model_4.add(layers.Dense(64, activation='relu'))\n",
    "model_4.add(layers.Dense(64, activation='relu'))\n",
    "model_4.add(layers.Dense(64, activation='relu'))\n",
    "model_4.add(layers.Dense(64, activation='relu'))\n",
    "model_4.add(layers.Dense(1))"
   ]
  },
  {
   "cell_type": "code",
   "execution_count": 10,
   "metadata": {},
   "outputs": [],
   "source": [
    "l = [2, 1, 5, 10]\n",
    "i = 0\n",
    "\n",
    "res_list = []\n",
    "\n",
    "for model in [model_1, model_2, model_3, model_4]:\n",
    "\n",
    "  res = {}\n",
    "\n",
    "  model.compile(optimizer='adam',\n",
    "              loss=tf.keras.losses.MeanSquaredError(),\n",
    "              metrics=['mean_absolute_error'])\n",
    "  \n",
    "  model.fit(X_train, y_train, epochs=5,\n",
    "              verbose = False)\n",
    "  y_pred_test = model.predict(X_test)\n",
    "\n",
    "  #r2, rmse, mse = evaluate_preds(y_test, y_pred_test.flatten(), vis=False)\n",
    "\n",
    "\n",
    "  res['l'] = l[i]\n",
    "  i += 1\n",
    "  res['r2'] = round(r2(y_test, y_pred_test.copy().flatten()),5)\n",
    "  res['rmse'] = round(np.sqrt(mse(y_test, y_pred_test.copy().flatten())),5)\n",
    "  res['mse'] = round(mse(y_test, y_pred_test.copy().flatten()),5)\n",
    "\n",
    "  res_list.append(res)"
   ]
  },
  {
   "cell_type": "code",
   "execution_count": null,
   "metadata": {},
   "outputs": [],
   "source": []
  },
  {
   "cell_type": "code",
   "execution_count": 11,
   "metadata": {},
   "outputs": [
    {
     "name": "stdout",
     "output_type": "stream",
     "text": [
      "[{'l': 2, 'mse': 89.60209, 'r2': -0.18398, 'rmse': 9.46584},\n",
      " {'l': 1, 'mse': 233.24009, 'r2': -2.08199, 'rmse': 15.2722},\n",
      " {'l': 5, 'mse': 57.27827, 'r2': 0.24314, 'rmse': 7.56824},\n",
      " {'l': 10, 'mse': 56.21996, 'r2': 0.25712, 'rmse': 7.498}]\n"
     ]
    }
   ],
   "source": [
    "pprint(res_list)"
   ]
  },
  {
   "cell_type": "code",
   "execution_count": 12,
   "metadata": {},
   "outputs": [],
   "source": [
    "res_list = []\n",
    "\n",
    "for n in [1, 2, 4, 8, 16, 32, 64, 128, 256, 512, 1024, 2048]:\n",
    "\n",
    "  res = {}\n",
    "\n",
    "  model_n = models.Sequential()\n",
    "  model_n.add(layers.Dense(n, activation='relu', input_shape=(X_train.shape[1],)))\n",
    "  model_n.add(layers.Dense(n, activation='relu'))\n",
    "  model_n.add(layers.Dense(1))\n",
    "\n",
    "  model_n.compile(optimizer='adam',\n",
    "              loss=tf.keras.losses.MeanSquaredError(),\n",
    "              metrics=['mean_absolute_error'])\n",
    "  \n",
    "  model_n.fit(X_train, y_train, epochs=5,\n",
    "              verbose = False)\n",
    "  y_pred_test = model_n.predict(X_test)\n",
    "\n",
    "  #r2, rmse, mse = evaluate_preds(y_test, y_pred_test.flatten(), vis=False)\n",
    "\n",
    "\n",
    "  res['n'] = n\n",
    "  res['r2'] = round(r2(y_test, y_pred_test.copy().flatten()),5)\n",
    "  res['rmse'] = round(np.sqrt(mse(y_test, y_pred_test.copy().flatten())),5)\n",
    "  res['mse'] = round(mse(y_test, y_pred_test.copy().flatten()),5)\n",
    "\n",
    "  res_list.append(res)"
   ]
  },
  {
   "cell_type": "code",
   "execution_count": null,
   "metadata": {},
   "outputs": [],
   "source": []
  },
  {
   "cell_type": "code",
   "execution_count": 13,
   "metadata": {},
   "outputs": [],
   "source": [
    "res_list = []\n",
    "\n",
    "for opt in ['adam', 'RMSprop', 'Ftrl', 'Nadam', 'Adamax']:\n",
    "\n",
    "  res = {}\n",
    "\n",
    "  model_o = models.Sequential()\n",
    "  model_o.add(layers.Dense(1024, activation='relu', input_shape=(X_train.shape[1],)))\n",
    "  model_o.add(layers.Dense(1024, activation='relu'))\n",
    "  model_o.add(layers.Dense(1))\n",
    "\n",
    "  model_o.compile(optimizer=opt,\n",
    "              loss=tf.keras.losses.MeanSquaredError(),\n",
    "              metrics=['mean_absolute_error'])\n",
    "  \n",
    "  model_o.fit(X_train, y_train, epochs=5,\n",
    "              verbose = False)\n",
    "  y_pred_test = model_o.predict(X_test)\n",
    "\n",
    "  #r2, rmse, mse = evaluate_preds(y_test, y_pred_test.flatten(), vis=False)\n",
    "  #print(y_pred_test)\n",
    "\n",
    "  res['o'] = opt\n",
    "  res['r2'] = round(r2(y_test, y_pred_test.copy().flatten()),5)\n",
    "  res['rmse'] = round(np.sqrt(mse(y_test, y_pred_test.copy().flatten())),5)\n",
    "  res['mse'] = round(mse(y_test, y_pred_test.copy().flatten()),5)\n",
    "\n",
    "  res_list.append(res)"
   ]
  },
  {
   "cell_type": "code",
   "execution_count": 14,
   "metadata": {},
   "outputs": [
    {
     "name": "stdout",
     "output_type": "stream",
     "text": [
      "[{'mse': 65.94273, 'o': 'adam', 'r2': 0.12865, 'rmse': 8.12051},\n",
      " {'mse': 57.39946, 'o': 'RMSprop', 'r2': 0.24154, 'rmse': 7.57624},\n",
      " {'mse': 49.55974, 'o': 'Ftrl', 'r2': 0.34513, 'rmse': 7.03987},\n",
      " {'mse': 84.17405, 'o': 'Nadam', 'r2': -0.11226, 'rmse': 9.17464},\n",
      " {'mse': 59.52821, 'o': 'Adamax', 'r2': 0.21341, 'rmse': 7.71545}]\n"
     ]
    }
   ],
   "source": [
    "pprint(res_list)"
   ]
  },
  {
   "cell_type": "code",
   "execution_count": 15,
   "metadata": {},
   "outputs": [],
   "source": [
    "res_list = []\n",
    "\n",
    "for opt in ['adam', 'RMSprop', 'Ftrl', 'Nadam', 'Adamax']:\n",
    "  for n in [1, 2, 4, 8, 16, 32, 64, 128, 256, 512, 1024, 2048]:\n",
    "    for metrics in ['mean_absolute_error', 'mean_squared_error']:\n",
    "      for loss in [tf.keras.losses.MeanSquaredError(), tf.keras.losses.MeanAbsoluteError()]:\n",
    "        model_1 = models.Sequential()\n",
    "        model_1.add(layers.Dense(n, activation='relu', input_shape=(X_train.shape[1],)))\n",
    "        model_1.add(layers.Dense(n, activation='relu'))\n",
    "        model_1.add(layers.Dense(1))\n",
    "\n",
    "        model_2 = models.Sequential()\n",
    "        model_2.add(layers.Dense(n, activation='relu', input_shape=(X_train.shape[1],)))\n",
    "        model_2.add(layers.Dense(1))\n",
    "\n",
    "        model_3 = models.Sequential()\n",
    "        model_3.add(layers.Dense(n, activation='relu', input_shape=(X_train.shape[1],)))\n",
    "        model_3.add(layers.Dense(n, activation='relu'))\n",
    "        model_3.add(layers.Dense(n, activation='relu'))\n",
    "        model_3.add(layers.Dense(n, activation='relu'))\n",
    "        model_3.add(layers.Dense(n, activation='relu'))\n",
    "        model_3.add(layers.Dense(1))\n",
    "\n",
    "        model_4 = models.Sequential()\n",
    "        model_4.add(layers.Dense(n, activation='relu', input_shape=(X_train.shape[1],)))\n",
    "        model_4.add(layers.Dense(n, activation='relu'))\n",
    "        model_4.add(layers.Dense(n, activation='relu'))\n",
    "        model_4.add(layers.Dense(n, activation='relu'))\n",
    "        model_4.add(layers.Dense(n, activation='relu'))\n",
    "        model_4.add(layers.Dense(n, activation='relu'))\n",
    "        model_4.add(layers.Dense(n, activation='relu'))\n",
    "        model_4.add(layers.Dense(n, activation='relu'))\n",
    "        model_4.add(layers.Dense(n, activation='relu'))\n",
    "        model_4.add(layers.Dense(n, activation='relu'))\n",
    "        model_4.add(layers.Dense(1))\n",
    "\n",
    "        l = [2, 1, 5, 10]\n",
    "        i = 0\n",
    "\n",
    "        for model in [model_1, model_2, model_3, model_4]:\n",
    "\n",
    "          res = {}\n",
    "\n",
    "          model.compile(optimizer='adam',\n",
    "                      loss=loss,\n",
    "                      metrics=metrics)\n",
    "          \n",
    "          model.fit(X_train, y_train, epochs=5,\n",
    "                      verbose = False)\n",
    "          y_pred_test = model.predict(X_test)\n",
    "\n",
    "          #r2, rmse, mse = evaluate_preds(y_test, y_pred_test.flatten(), vis=False)\n",
    "\n",
    "\n",
    "          res['l'] = l[i]\n",
    "          res['n'] = n\n",
    "          res['opt'] = opt\n",
    "          res['metrics'] = metrics\n",
    "          res['loss'] = loss\n",
    "          i += 1\n",
    "          res['r2'] = round(r2(y_test, y_pred_test.copy().flatten()),5)\n",
    "          res['rmse'] = round(np.sqrt(mse(y_test, y_pred_test.copy().flatten())),5)\n",
    "          res['mse'] = round(mse(y_test, y_pred_test.copy().flatten()),5)\n",
    "\n",
    "\n",
    "          res_list.append(res)"
   ]
  },
  {
   "cell_type": "code",
   "execution_count": 16,
   "metadata": {},
   "outputs": [],
   "source": [
    "df = pd.DataFrame(res_list)"
   ]
  },
  {
   "cell_type": "code",
   "execution_count": 18,
   "metadata": {},
   "outputs": [
    {
     "name": "stdout",
     "output_type": "stream",
     "text": [
      "<class 'pandas.core.frame.DataFrame'>\n",
      "RangeIndex: 960 entries, 0 to 959\n",
      "Data columns (total 8 columns):\n",
      " #   Column   Non-Null Count  Dtype  \n",
      "---  ------   --------------  -----  \n",
      " 0   l        960 non-null    int64  \n",
      " 1   n        960 non-null    int64  \n",
      " 2   opt      960 non-null    object \n",
      " 3   metrics  960 non-null    object \n",
      " 4   loss     960 non-null    object \n",
      " 5   r2       960 non-null    float64\n",
      " 6   rmse     960 non-null    float64\n",
      " 7   mse      960 non-null    float64\n",
      "dtypes: float64(3), int64(2), object(3)\n",
      "memory usage: 60.1+ KB\n"
     ]
    }
   ],
   "source": [
    "df.info()"
   ]
  },
  {
   "cell_type": "code",
   "execution_count": 20,
   "metadata": {},
   "outputs": [
    {
     "data": {
      "text/html": [
       "<div>\n",
       "<style scoped>\n",
       "    .dataframe tbody tr th:only-of-type {\n",
       "        vertical-align: middle;\n",
       "    }\n",
       "\n",
       "    .dataframe tbody tr th {\n",
       "        vertical-align: top;\n",
       "    }\n",
       "\n",
       "    .dataframe thead th {\n",
       "        text-align: right;\n",
       "    }\n",
       "</style>\n",
       "<table border=\"1\" class=\"dataframe\">\n",
       "  <thead>\n",
       "    <tr style=\"text-align: right;\">\n",
       "      <th></th>\n",
       "      <th>l</th>\n",
       "      <th>n</th>\n",
       "      <th>opt</th>\n",
       "      <th>metrics</th>\n",
       "      <th>loss</th>\n",
       "      <th>r2</th>\n",
       "      <th>rmse</th>\n",
       "      <th>mse</th>\n",
       "    </tr>\n",
       "  </thead>\n",
       "  <tbody>\n",
       "    <tr>\n",
       "      <th>329</th>\n",
       "      <td>1</td>\n",
       "      <td>256</td>\n",
       "      <td>RMSprop</td>\n",
       "      <td>mean_squared_error</td>\n",
       "      <td>&lt;tensorflow.python.keras.losses.MeanSquaredErr...</td>\n",
       "      <td>0.53963</td>\n",
       "      <td>5.90252</td>\n",
       "      <td>34.83979</td>\n",
       "    </tr>\n",
       "    <tr>\n",
       "      <th>933</th>\n",
       "      <td>1</td>\n",
       "      <td>1024</td>\n",
       "      <td>Adamax</td>\n",
       "      <td>mean_absolute_error</td>\n",
       "      <td>&lt;tensorflow.python.keras.losses.MeanAbsoluteEr...</td>\n",
       "      <td>0.53546</td>\n",
       "      <td>5.92923</td>\n",
       "      <td>35.15577</td>\n",
       "    </tr>\n",
       "    <tr>\n",
       "      <th>173</th>\n",
       "      <td>1</td>\n",
       "      <td>1024</td>\n",
       "      <td>adam</td>\n",
       "      <td>mean_squared_error</td>\n",
       "      <td>&lt;tensorflow.python.keras.losses.MeanAbsoluteEr...</td>\n",
       "      <td>0.51225</td>\n",
       "      <td>6.07552</td>\n",
       "      <td>36.91191</td>\n",
       "    </tr>\n",
       "    <tr>\n",
       "      <th>913</th>\n",
       "      <td>1</td>\n",
       "      <td>512</td>\n",
       "      <td>Adamax</td>\n",
       "      <td>mean_absolute_error</td>\n",
       "      <td>&lt;tensorflow.python.keras.losses.MeanSquaredErr...</td>\n",
       "      <td>0.51116</td>\n",
       "      <td>6.08230</td>\n",
       "      <td>36.99433</td>\n",
       "    </tr>\n",
       "    <tr>\n",
       "      <th>729</th>\n",
       "      <td>1</td>\n",
       "      <td>512</td>\n",
       "      <td>Nadam</td>\n",
       "      <td>mean_squared_error</td>\n",
       "      <td>&lt;tensorflow.python.keras.losses.MeanSquaredErr...</td>\n",
       "      <td>0.51083</td>\n",
       "      <td>6.08439</td>\n",
       "      <td>37.01979</td>\n",
       "    </tr>\n",
       "    <tr>\n",
       "      <th>565</th>\n",
       "      <td>1</td>\n",
       "      <td>2048</td>\n",
       "      <td>Ftrl</td>\n",
       "      <td>mean_absolute_error</td>\n",
       "      <td>&lt;tensorflow.python.keras.losses.MeanAbsoluteEr...</td>\n",
       "      <td>0.50216</td>\n",
       "      <td>6.13806</td>\n",
       "      <td>37.67576</td>\n",
       "    </tr>\n",
       "    <tr>\n",
       "      <th>721</th>\n",
       "      <td>1</td>\n",
       "      <td>512</td>\n",
       "      <td>Nadam</td>\n",
       "      <td>mean_absolute_error</td>\n",
       "      <td>&lt;tensorflow.python.keras.losses.MeanSquaredErr...</td>\n",
       "      <td>0.49566</td>\n",
       "      <td>6.17803</td>\n",
       "      <td>38.16801</td>\n",
       "    </tr>\n",
       "    <tr>\n",
       "      <th>761</th>\n",
       "      <td>1</td>\n",
       "      <td>2048</td>\n",
       "      <td>Nadam</td>\n",
       "      <td>mean_squared_error</td>\n",
       "      <td>&lt;tensorflow.python.keras.losses.MeanSquaredErr...</td>\n",
       "      <td>0.49340</td>\n",
       "      <td>6.19185</td>\n",
       "      <td>38.33902</td>\n",
       "    </tr>\n",
       "    <tr>\n",
       "      <th>529</th>\n",
       "      <td>1</td>\n",
       "      <td>512</td>\n",
       "      <td>Ftrl</td>\n",
       "      <td>mean_absolute_error</td>\n",
       "      <td>&lt;tensorflow.python.keras.losses.MeanSquaredErr...</td>\n",
       "      <td>0.49008</td>\n",
       "      <td>6.21208</td>\n",
       "      <td>38.58991</td>\n",
       "    </tr>\n",
       "    <tr>\n",
       "      <th>185</th>\n",
       "      <td>1</td>\n",
       "      <td>2048</td>\n",
       "      <td>adam</td>\n",
       "      <td>mean_squared_error</td>\n",
       "      <td>&lt;tensorflow.python.keras.losses.MeanSquaredErr...</td>\n",
       "      <td>0.48406</td>\n",
       "      <td>6.24865</td>\n",
       "      <td>39.04559</td>\n",
       "    </tr>\n",
       "  </tbody>\n",
       "</table>\n",
       "</div>"
      ],
      "text/plain": [
       "     l     n      opt              metrics  \\\n",
       "329  1   256  RMSprop   mean_squared_error   \n",
       "933  1  1024   Adamax  mean_absolute_error   \n",
       "173  1  1024     adam   mean_squared_error   \n",
       "913  1   512   Adamax  mean_absolute_error   \n",
       "729  1   512    Nadam   mean_squared_error   \n",
       "565  1  2048     Ftrl  mean_absolute_error   \n",
       "721  1   512    Nadam  mean_absolute_error   \n",
       "761  1  2048    Nadam   mean_squared_error   \n",
       "529  1   512     Ftrl  mean_absolute_error   \n",
       "185  1  2048     adam   mean_squared_error   \n",
       "\n",
       "                                                  loss       r2     rmse  \\\n",
       "329  <tensorflow.python.keras.losses.MeanSquaredErr...  0.53963  5.90252   \n",
       "933  <tensorflow.python.keras.losses.MeanAbsoluteEr...  0.53546  5.92923   \n",
       "173  <tensorflow.python.keras.losses.MeanAbsoluteEr...  0.51225  6.07552   \n",
       "913  <tensorflow.python.keras.losses.MeanSquaredErr...  0.51116  6.08230   \n",
       "729  <tensorflow.python.keras.losses.MeanSquaredErr...  0.51083  6.08439   \n",
       "565  <tensorflow.python.keras.losses.MeanAbsoluteEr...  0.50216  6.13806   \n",
       "721  <tensorflow.python.keras.losses.MeanSquaredErr...  0.49566  6.17803   \n",
       "761  <tensorflow.python.keras.losses.MeanSquaredErr...  0.49340  6.19185   \n",
       "529  <tensorflow.python.keras.losses.MeanSquaredErr...  0.49008  6.21208   \n",
       "185  <tensorflow.python.keras.losses.MeanSquaredErr...  0.48406  6.24865   \n",
       "\n",
       "          mse  \n",
       "329  34.83979  \n",
       "933  35.15577  \n",
       "173  36.91191  \n",
       "913  36.99433  \n",
       "729  37.01979  \n",
       "565  37.67576  \n",
       "721  38.16801  \n",
       "761  38.33902  \n",
       "529  38.58991  \n",
       "185  39.04559  "
      ]
     },
     "execution_count": 20,
     "metadata": {},
     "output_type": "execute_result"
    }
   ],
   "source": [
    "df.sort_values(by='rmse').head(10)"
   ]
  },
  {
   "cell_type": "markdown",
   "metadata": {},
   "source": [
    "странно что более простая модель показывает наиболее лучший результат "
   ]
  },
  {
   "cell_type": "code",
   "execution_count": null,
   "metadata": {},
   "outputs": [],
   "source": []
  }
 ],
 "metadata": {
  "kernelspec": {
   "display_name": "Python 3",
   "language": "python",
   "name": "python3"
  },
  "language_info": {
   "codemirror_mode": {
    "name": "ipython",
    "version": 3
   },
   "file_extension": ".py",
   "mimetype": "text/x-python",
   "name": "python",
   "nbconvert_exporter": "python",
   "pygments_lexer": "ipython3",
   "version": "3.8.5"
  }
 },
 "nbformat": 4,
 "nbformat_minor": 4
}
